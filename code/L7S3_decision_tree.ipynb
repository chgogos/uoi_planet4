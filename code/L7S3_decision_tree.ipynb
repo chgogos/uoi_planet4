{
 "cells": [
  {
   "cell_type": "code",
   "execution_count": null,
   "metadata": {},
   "outputs": [],
   "source": []
  }
 ],
 "metadata": {
  "kernelspec": {
   "display_name": "Python 3.9.13 ('planet4')",
   "language": "python",
   "name": "python3"
  },
  "language_info": {
   "name": "python",
   "version": "3.9.13"
  },
  "orig_nbformat": 4,
  "vscode": {
   "interpreter": {
    "hash": "a97243cb405ce325831496ff23b7ca76a6c0db2bb6c2ed99961e1c84fd8cf4ba"
   }
  }
 },
 "nbformat": 4,
 "nbformat_minor": 2
}
