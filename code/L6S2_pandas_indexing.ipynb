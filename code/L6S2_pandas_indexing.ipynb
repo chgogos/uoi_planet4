{
 "cells": [
  {
   "cell_type": "markdown",
   "metadata": {},
   "source": [
    "# Lesson 6 - Session 2 - Pandas example 2\n",
    "\n",
    "## Indexing in DataFrames\n",
    "\n",
    "1. Indexing by location\n",
    "2. Indexing by label\n",
    "3. Indexing by Boolean masks\n",
    "4. Indexing using slices\n",
    "5. Column based and row based indexing\n",
    "6. Hierarchical indexing (needs a multi indexed DataFrame)"
   ]
  },
  {
   "cell_type": "code",
   "execution_count": 1,
   "metadata": {},
   "outputs": [
    {
     "name": "stdout",
     "output_type": "stream",
     "text": [
      "               breed          type  longevity    size  weight\n",
      "0    German Shepherd       herding       9.73   large     NaN\n",
      "1             Beagle         hound      12.30   small     NaN\n",
      "2  Yorkshire Terrier           toy      12.60   small     5.5\n",
      "3   Golden Retriever      sporting      12.04  medium    60.0\n",
      "4            Bulldog  non-sporting       6.29  medium    45.0\n",
      "########################################\n",
      "                           type  longevity    size  weight\n",
      "breed                                                     \n",
      "German Shepherd         herding       9.73   large     NaN\n",
      "Beagle                    hound      12.30   small     NaN\n",
      "Yorkshire Terrier           toy      12.60   small     5.5\n",
      "Golden Retriever       sporting      12.04  medium    60.0\n",
      "Bulldog            non-sporting       6.29  medium    45.0\n"
     ]
    }
   ],
   "source": [
    "# read data from the text variable csv, keep only 5 top rows\n",
    "import pandas as pd\n",
    "\n",
    "# sample DataFrame\n",
    "import io\n",
    "\n",
    "csv = '''\n",
    "breed,type,longevity,size,weight\n",
    "German Shepherd,herding,9.73,large,\n",
    "Beagle,hound,12.3,small,\n",
    "Yorkshire Terrier,toy,12.6,small,5.5\n",
    "Golden Retriever,sporting,12.04,medium,60.0\n",
    "Bulldog,non-sporting,6.29,medium,45.0\n",
    "Labrador Retriever,sporting,12.04,medium,67.5\n",
    "Boxer,working,8.81,medium,\n",
    "Poodle,non-sporting,11.95,medium,\n",
    "Dachshund,hound,12.63,small,24.0\n",
    "Rottweiler,working,9.11,large,\n",
    "Boston Terrier,non-sporting,10.92,medium,\n",
    "Shih Tzu,toy,13.2,small,12.5\n",
    "Miniature Schnauzer,terrier,11.81,small,15.5\n",
    "Doberman Pinscher,working,10.33,large,\n",
    "Chihuahua,toy,16.5,small,5.5\n",
    "Siberian Husky,working,12.58,medium,47.5\n",
    "Pomeranian,toy,9.67,small,5.0\n",
    "French Bulldog,non-sporting,9.0,medium,27.0\n",
    "Great Dane,working,6.96,large,\n",
    "Shetland Sheepdog,herding,12.53,small,22.0\n",
    "Cavalier King Charles Spaniel,toy,11.29,small,15.5\n",
    "German Shorthaired Pointer,sporting,11.46,large,62.5\n",
    "Maltese,toy,12.25,small,5.0\n",
    "'''\n",
    "\n",
    "df = pd.read_csv(io.StringIO(csv))\n",
    "df = df.head(5)\n",
    "print(df)\n",
    "print(\"#\" * 40)\n",
    "df.set_index('breed', inplace=True)\n",
    "print(df)"
   ]
  },
  {
   "cell_type": "markdown",
   "metadata": {},
   "source": [
    "## Indexing by location (1/6)\n",
    "\n",
    "Location-based a.k.a position-based or integer-based"
   ]
  },
  {
   "cell_type": "code",
   "execution_count": 2,
   "metadata": {},
   "outputs": [
    {
     "data": {
      "text/plain": [
       "type         herding\n",
       "longevity       9.73\n",
       "size           large\n",
       "weight           NaN\n",
       "Name: German Shepherd, dtype: object"
      ]
     },
     "execution_count": 2,
     "metadata": {},
     "output_type": "execute_result"
    }
   ],
   "source": [
    "# select the first row of the DataFrame\n",
    "df.iloc[0]"
   ]
  },
  {
   "cell_type": "code",
   "execution_count": 3,
   "metadata": {},
   "outputs": [
    {
     "data": {
      "text/plain": [
       "breed\n",
       "German Shepherd           herding\n",
       "Beagle                      hound\n",
       "Yorkshire Terrier             toy\n",
       "Golden Retriever         sporting\n",
       "Bulldog              non-sporting\n",
       "Name: type, dtype: object"
      ]
     },
     "execution_count": 3,
     "metadata": {},
     "output_type": "execute_result"
    }
   ],
   "source": [
    "# select the first column of the DataFrame\n",
    "df.iloc[:,0]"
   ]
  },
  {
   "cell_type": "code",
   "execution_count": 4,
   "metadata": {},
   "outputs": [
    {
     "data": {
      "text/plain": [
       "'large'"
      ]
     },
     "execution_count": 4,
     "metadata": {},
     "output_type": "execute_result"
    }
   ],
   "source": [
    "# select a cell value by row and column index\n",
    "df.iloc[0,2]"
   ]
  },
  {
   "cell_type": "markdown",
   "metadata": {},
   "source": [
    "## Indexing by labels (2/6)\n",
    "\n",
    "Label-based "
   ]
  },
  {
   "cell_type": "code",
   "execution_count": 5,
   "metadata": {},
   "outputs": [
    {
     "data": {
      "text/plain": [
       "type         hound\n",
       "longevity     12.3\n",
       "size         small\n",
       "weight         NaN\n",
       "Name: Beagle, dtype: object"
      ]
     },
     "execution_count": 5,
     "metadata": {},
     "output_type": "execute_result"
    }
   ],
   "source": [
    "# select the row with index 'Beagle'\n",
    "df.loc['Beagle']"
   ]
  },
  {
   "cell_type": "code",
   "execution_count": 6,
   "metadata": {},
   "outputs": [
    {
     "data": {
      "text/html": [
       "<div>\n",
       "<style scoped>\n",
       "    .dataframe tbody tr th:only-of-type {\n",
       "        vertical-align: middle;\n",
       "    }\n",
       "\n",
       "    .dataframe tbody tr th {\n",
       "        vertical-align: top;\n",
       "    }\n",
       "\n",
       "    .dataframe thead th {\n",
       "        text-align: right;\n",
       "    }\n",
       "</style>\n",
       "<table border=\"1\" class=\"dataframe\">\n",
       "  <thead>\n",
       "    <tr style=\"text-align: right;\">\n",
       "      <th></th>\n",
       "      <th>longevity</th>\n",
       "    </tr>\n",
       "    <tr>\n",
       "      <th>breed</th>\n",
       "      <th></th>\n",
       "    </tr>\n",
       "  </thead>\n",
       "  <tbody>\n",
       "    <tr>\n",
       "      <th>German Shepherd</th>\n",
       "      <td>9.73</td>\n",
       "    </tr>\n",
       "    <tr>\n",
       "      <th>Beagle</th>\n",
       "      <td>12.30</td>\n",
       "    </tr>\n",
       "    <tr>\n",
       "      <th>Yorkshire Terrier</th>\n",
       "      <td>12.60</td>\n",
       "    </tr>\n",
       "    <tr>\n",
       "      <th>Golden Retriever</th>\n",
       "      <td>12.04</td>\n",
       "    </tr>\n",
       "    <tr>\n",
       "      <th>Bulldog</th>\n",
       "      <td>6.29</td>\n",
       "    </tr>\n",
       "  </tbody>\n",
       "</table>\n",
       "</div>"
      ],
      "text/plain": [
       "                   longevity\n",
       "breed                       \n",
       "German Shepherd         9.73\n",
       "Beagle                 12.30\n",
       "Yorkshire Terrier      12.60\n",
       "Golden Retriever       12.04\n",
       "Bulldog                 6.29"
      ]
     },
     "execution_count": 6,
     "metadata": {},
     "output_type": "execute_result"
    }
   ],
   "source": [
    "# select the column longevity\n",
    "df.loc[:,['longevity']]"
   ]
  },
  {
   "cell_type": "markdown",
   "metadata": {},
   "source": [
    "## Indexing by Boolean masks (3/6)"
   ]
  },
  {
   "cell_type": "code",
   "execution_count": 7,
   "metadata": {},
   "outputs": [
    {
     "data": {
      "text/plain": [
       "breed\n",
       "German Shepherd      False\n",
       "Beagle                True\n",
       "Yorkshire Terrier     True\n",
       "Golden Retriever     False\n",
       "Bulldog              False\n",
       "Name: size, dtype: bool"
      ]
     },
     "execution_count": 7,
     "metadata": {},
     "output_type": "execute_result"
    }
   ],
   "source": [
    "# A boolean mask\n",
    "df[\"size\"]==\"small\" "
   ]
  },
  {
   "cell_type": "code",
   "execution_count": 8,
   "metadata": {},
   "outputs": [
    {
     "data": {
      "text/html": [
       "<div>\n",
       "<style scoped>\n",
       "    .dataframe tbody tr th:only-of-type {\n",
       "        vertical-align: middle;\n",
       "    }\n",
       "\n",
       "    .dataframe tbody tr th {\n",
       "        vertical-align: top;\n",
       "    }\n",
       "\n",
       "    .dataframe thead th {\n",
       "        text-align: right;\n",
       "    }\n",
       "</style>\n",
       "<table border=\"1\" class=\"dataframe\">\n",
       "  <thead>\n",
       "    <tr style=\"text-align: right;\">\n",
       "      <th></th>\n",
       "      <th>type</th>\n",
       "      <th>longevity</th>\n",
       "      <th>size</th>\n",
       "      <th>weight</th>\n",
       "    </tr>\n",
       "    <tr>\n",
       "      <th>breed</th>\n",
       "      <th></th>\n",
       "      <th></th>\n",
       "      <th></th>\n",
       "      <th></th>\n",
       "    </tr>\n",
       "  </thead>\n",
       "  <tbody>\n",
       "    <tr>\n",
       "      <th>Beagle</th>\n",
       "      <td>hound</td>\n",
       "      <td>12.3</td>\n",
       "      <td>small</td>\n",
       "      <td>NaN</td>\n",
       "    </tr>\n",
       "    <tr>\n",
       "      <th>Yorkshire Terrier</th>\n",
       "      <td>toy</td>\n",
       "      <td>12.6</td>\n",
       "      <td>small</td>\n",
       "      <td>5.5</td>\n",
       "    </tr>\n",
       "  </tbody>\n",
       "</table>\n",
       "</div>"
      ],
      "text/plain": [
       "                    type  longevity   size  weight\n",
       "breed                                             \n",
       "Beagle             hound       12.3  small     NaN\n",
       "Yorkshire Terrier    toy       12.6  small     5.5"
      ]
     },
     "execution_count": 8,
     "metadata": {},
     "output_type": "execute_result"
    }
   ],
   "source": [
    "# select dogs with small size\n",
    "df.loc[df[\"size\"]==\"small\"]"
   ]
  },
  {
   "cell_type": "code",
   "execution_count": 9,
   "metadata": {},
   "outputs": [
    {
     "data": {
      "text/html": [
       "<div>\n",
       "<style scoped>\n",
       "    .dataframe tbody tr th:only-of-type {\n",
       "        vertical-align: middle;\n",
       "    }\n",
       "\n",
       "    .dataframe tbody tr th {\n",
       "        vertical-align: top;\n",
       "    }\n",
       "\n",
       "    .dataframe thead th {\n",
       "        text-align: right;\n",
       "    }\n",
       "</style>\n",
       "<table border=\"1\" class=\"dataframe\">\n",
       "  <thead>\n",
       "    <tr style=\"text-align: right;\">\n",
       "      <th></th>\n",
       "      <th>type</th>\n",
       "      <th>longevity</th>\n",
       "      <th>size</th>\n",
       "      <th>weight</th>\n",
       "    </tr>\n",
       "    <tr>\n",
       "      <th>breed</th>\n",
       "      <th></th>\n",
       "      <th></th>\n",
       "      <th></th>\n",
       "      <th></th>\n",
       "    </tr>\n",
       "  </thead>\n",
       "  <tbody>\n",
       "    <tr>\n",
       "      <th>Beagle</th>\n",
       "      <td>hound</td>\n",
       "      <td>12.3</td>\n",
       "      <td>small</td>\n",
       "      <td>NaN</td>\n",
       "    </tr>\n",
       "  </tbody>\n",
       "</table>\n",
       "</div>"
      ],
      "text/plain": [
       "         type  longevity   size  weight\n",
       "breed                                  \n",
       "Beagle  hound       12.3  small     NaN"
      ]
     },
     "execution_count": 9,
     "metadata": {},
     "output_type": "execute_result"
    }
   ],
   "source": [
    "# select dogs with small size and hound type \n",
    "df.loc[(df[\"size\"]==\"small\") & (df[\"type\"]==\"hound\")]"
   ]
  },
  {
   "cell_type": "markdown",
   "metadata": {},
   "source": [
    "# Indexing using slices (4/6)"
   ]
  },
  {
   "cell_type": "code",
   "execution_count": 10,
   "metadata": {},
   "outputs": [
    {
     "data": {
      "text/html": [
       "<div>\n",
       "<style scoped>\n",
       "    .dataframe tbody tr th:only-of-type {\n",
       "        vertical-align: middle;\n",
       "    }\n",
       "\n",
       "    .dataframe tbody tr th {\n",
       "        vertical-align: top;\n",
       "    }\n",
       "\n",
       "    .dataframe thead th {\n",
       "        text-align: right;\n",
       "    }\n",
       "</style>\n",
       "<table border=\"1\" class=\"dataframe\">\n",
       "  <thead>\n",
       "    <tr style=\"text-align: right;\">\n",
       "      <th></th>\n",
       "      <th>type</th>\n",
       "      <th>longevity</th>\n",
       "    </tr>\n",
       "    <tr>\n",
       "      <th>breed</th>\n",
       "      <th></th>\n",
       "      <th></th>\n",
       "    </tr>\n",
       "  </thead>\n",
       "  <tbody>\n",
       "    <tr>\n",
       "      <th>Beagle</th>\n",
       "      <td>hound</td>\n",
       "      <td>12.3</td>\n",
       "    </tr>\n",
       "    <tr>\n",
       "      <th>Yorkshire Terrier</th>\n",
       "      <td>toy</td>\n",
       "      <td>12.6</td>\n",
       "    </tr>\n",
       "  </tbody>\n",
       "</table>\n",
       "</div>"
      ],
      "text/plain": [
       "                    type  longevity\n",
       "breed                              \n",
       "Beagle             hound       12.3\n",
       "Yorkshire Terrier    toy       12.6"
      ]
     },
     "execution_count": 10,
     "metadata": {},
     "output_type": "execute_result"
    }
   ],
   "source": [
    "# select row 1 and row 2, and column 0 and column 1\n",
    "df.iloc[1:3,0:2]"
   ]
  },
  {
   "cell_type": "code",
   "execution_count": 11,
   "metadata": {},
   "outputs": [
    {
     "data": {
      "text/html": [
       "<div>\n",
       "<style scoped>\n",
       "    .dataframe tbody tr th:only-of-type {\n",
       "        vertical-align: middle;\n",
       "    }\n",
       "\n",
       "    .dataframe tbody tr th {\n",
       "        vertical-align: top;\n",
       "    }\n",
       "\n",
       "    .dataframe thead th {\n",
       "        text-align: right;\n",
       "    }\n",
       "</style>\n",
       "<table border=\"1\" class=\"dataframe\">\n",
       "  <thead>\n",
       "    <tr style=\"text-align: right;\">\n",
       "      <th></th>\n",
       "      <th>type</th>\n",
       "      <th>size</th>\n",
       "    </tr>\n",
       "    <tr>\n",
       "      <th>breed</th>\n",
       "      <th></th>\n",
       "      <th></th>\n",
       "    </tr>\n",
       "  </thead>\n",
       "  <tbody>\n",
       "    <tr>\n",
       "      <th>Beagle</th>\n",
       "      <td>hound</td>\n",
       "      <td>small</td>\n",
       "    </tr>\n",
       "    <tr>\n",
       "      <th>Golden Retriever</th>\n",
       "      <td>sporting</td>\n",
       "      <td>medium</td>\n",
       "    </tr>\n",
       "    <tr>\n",
       "      <th>German Shepherd</th>\n",
       "      <td>herding</td>\n",
       "      <td>large</td>\n",
       "    </tr>\n",
       "  </tbody>\n",
       "</table>\n",
       "</div>"
      ],
      "text/plain": [
       "                      type    size\n",
       "breed                             \n",
       "Beagle               hound   small\n",
       "Golden Retriever  sporting  medium\n",
       "German Shepherd    herding   large"
      ]
     },
     "execution_count": 11,
     "metadata": {},
     "output_type": "execute_result"
    }
   ],
   "source": [
    "# select 3 specific rows and 2 specific columns\n",
    "df.iloc[[1,3,0],[0,2]]"
   ]
  },
  {
   "cell_type": "markdown",
   "metadata": {},
   "source": [
    "## Column based and row based indexing (5/6)"
   ]
  },
  {
   "cell_type": "code",
   "execution_count": 12,
   "metadata": {},
   "outputs": [
    {
     "data": {
      "text/plain": [
       "breed\n",
       "German Shepherd       9.73\n",
       "Beagle               12.30\n",
       "Yorkshire Terrier    12.60\n",
       "Golden Retriever     12.04\n",
       "Bulldog               6.29\n",
       "Name: longevity, dtype: float64"
      ]
     },
     "execution_count": 12,
     "metadata": {},
     "output_type": "execute_result"
    }
   ],
   "source": [
    "# select the column longevity\n",
    "df['longevity']"
   ]
  },
  {
   "cell_type": "code",
   "execution_count": 13,
   "metadata": {},
   "outputs": [
    {
     "data": {
      "text/plain": [
       "breed\n",
       "German Shepherd       9.73\n",
       "Beagle               12.30\n",
       "Yorkshire Terrier    12.60\n",
       "Golden Retriever     12.04\n",
       "Bulldog               6.29\n",
       "Name: longevity, dtype: float64"
      ]
     },
     "execution_count": 13,
     "metadata": {},
     "output_type": "execute_result"
    }
   ],
   "source": [
    "# select the column longevity, using dot notation\n",
    "df.longevity"
   ]
  },
  {
   "cell_type": "code",
   "execution_count": 14,
   "metadata": {},
   "outputs": [
    {
     "data": {
      "text/html": [
       "<div>\n",
       "<style scoped>\n",
       "    .dataframe tbody tr th:only-of-type {\n",
       "        vertical-align: middle;\n",
       "    }\n",
       "\n",
       "    .dataframe tbody tr th {\n",
       "        vertical-align: top;\n",
       "    }\n",
       "\n",
       "    .dataframe thead th {\n",
       "        text-align: right;\n",
       "    }\n",
       "</style>\n",
       "<table border=\"1\" class=\"dataframe\">\n",
       "  <thead>\n",
       "    <tr style=\"text-align: right;\">\n",
       "      <th></th>\n",
       "      <th>longevity</th>\n",
       "      <th>size</th>\n",
       "    </tr>\n",
       "    <tr>\n",
       "      <th>breed</th>\n",
       "      <th></th>\n",
       "      <th></th>\n",
       "    </tr>\n",
       "  </thead>\n",
       "  <tbody>\n",
       "    <tr>\n",
       "      <th>German Shepherd</th>\n",
       "      <td>9.73</td>\n",
       "      <td>large</td>\n",
       "    </tr>\n",
       "    <tr>\n",
       "      <th>Beagle</th>\n",
       "      <td>12.30</td>\n",
       "      <td>small</td>\n",
       "    </tr>\n",
       "    <tr>\n",
       "      <th>Yorkshire Terrier</th>\n",
       "      <td>12.60</td>\n",
       "      <td>small</td>\n",
       "    </tr>\n",
       "    <tr>\n",
       "      <th>Golden Retriever</th>\n",
       "      <td>12.04</td>\n",
       "      <td>medium</td>\n",
       "    </tr>\n",
       "    <tr>\n",
       "      <th>Bulldog</th>\n",
       "      <td>6.29</td>\n",
       "      <td>medium</td>\n",
       "    </tr>\n",
       "  </tbody>\n",
       "</table>\n",
       "</div>"
      ],
      "text/plain": [
       "                   longevity    size\n",
       "breed                               \n",
       "German Shepherd         9.73   large\n",
       "Beagle                 12.30   small\n",
       "Yorkshire Terrier      12.60   small\n",
       "Golden Retriever       12.04  medium\n",
       "Bulldog                 6.29  medium"
      ]
     },
     "execution_count": 14,
     "metadata": {},
     "output_type": "execute_result"
    }
   ],
   "source": [
    "# select columns longevity and size\n",
    "df[['longevity', 'size']]"
   ]
  },
  {
   "cell_type": "code",
   "execution_count": 15,
   "metadata": {},
   "outputs": [
    {
     "data": {
      "text/plain": [
       "breed\n",
       "Beagle     12.30\n",
       "Bulldog     6.29\n",
       "Name: longevity, dtype: float64"
      ]
     },
     "execution_count": 15,
     "metadata": {},
     "output_type": "execute_result"
    }
   ],
   "source": [
    "# select rows Beagle and Bulldog\n",
    "df['longevity'][['Beagle', 'Bulldog']]"
   ]
  },
  {
   "cell_type": "markdown",
   "metadata": {},
   "source": [
    "## Hierarchical indexing (6/6)"
   ]
  },
  {
   "cell_type": "code",
   "execution_count": 16,
   "metadata": {},
   "outputs": [
    {
     "data": {
      "text/html": [
       "<div>\n",
       "<style scoped>\n",
       "    .dataframe tbody tr th:only-of-type {\n",
       "        vertical-align: middle;\n",
       "    }\n",
       "\n",
       "    .dataframe tbody tr th {\n",
       "        vertical-align: top;\n",
       "    }\n",
       "\n",
       "    .dataframe thead th {\n",
       "        text-align: right;\n",
       "    }\n",
       "</style>\n",
       "<table border=\"1\" class=\"dataframe\">\n",
       "  <thead>\n",
       "    <tr style=\"text-align: right;\">\n",
       "      <th></th>\n",
       "      <th></th>\n",
       "      <th>breed</th>\n",
       "      <th>longevity</th>\n",
       "      <th>weight</th>\n",
       "    </tr>\n",
       "    <tr>\n",
       "      <th>size</th>\n",
       "      <th>type</th>\n",
       "      <th></th>\n",
       "      <th></th>\n",
       "      <th></th>\n",
       "    </tr>\n",
       "  </thead>\n",
       "  <tbody>\n",
       "    <tr>\n",
       "      <th rowspan=\"5\" valign=\"top\">large</th>\n",
       "      <th>herding</th>\n",
       "      <td>German Shepherd</td>\n",
       "      <td>9.73</td>\n",
       "      <td>NaN</td>\n",
       "    </tr>\n",
       "    <tr>\n",
       "      <th>sporting</th>\n",
       "      <td>German Shorthaired Pointer</td>\n",
       "      <td>11.46</td>\n",
       "      <td>62.5</td>\n",
       "    </tr>\n",
       "    <tr>\n",
       "      <th>working</th>\n",
       "      <td>Rottweiler</td>\n",
       "      <td>9.11</td>\n",
       "      <td>NaN</td>\n",
       "    </tr>\n",
       "    <tr>\n",
       "      <th>working</th>\n",
       "      <td>Doberman Pinscher</td>\n",
       "      <td>10.33</td>\n",
       "      <td>NaN</td>\n",
       "    </tr>\n",
       "    <tr>\n",
       "      <th>working</th>\n",
       "      <td>Great Dane</td>\n",
       "      <td>6.96</td>\n",
       "      <td>NaN</td>\n",
       "    </tr>\n",
       "    <tr>\n",
       "      <th rowspan=\"8\" valign=\"top\">medium</th>\n",
       "      <th>non-sporting</th>\n",
       "      <td>Bulldog</td>\n",
       "      <td>6.29</td>\n",
       "      <td>45.0</td>\n",
       "    </tr>\n",
       "    <tr>\n",
       "      <th>non-sporting</th>\n",
       "      <td>Poodle</td>\n",
       "      <td>11.95</td>\n",
       "      <td>NaN</td>\n",
       "    </tr>\n",
       "    <tr>\n",
       "      <th>non-sporting</th>\n",
       "      <td>Boston Terrier</td>\n",
       "      <td>10.92</td>\n",
       "      <td>NaN</td>\n",
       "    </tr>\n",
       "    <tr>\n",
       "      <th>non-sporting</th>\n",
       "      <td>French Bulldog</td>\n",
       "      <td>9.00</td>\n",
       "      <td>27.0</td>\n",
       "    </tr>\n",
       "    <tr>\n",
       "      <th>sporting</th>\n",
       "      <td>Golden Retriever</td>\n",
       "      <td>12.04</td>\n",
       "      <td>60.0</td>\n",
       "    </tr>\n",
       "    <tr>\n",
       "      <th>sporting</th>\n",
       "      <td>Labrador Retriever</td>\n",
       "      <td>12.04</td>\n",
       "      <td>67.5</td>\n",
       "    </tr>\n",
       "    <tr>\n",
       "      <th>working</th>\n",
       "      <td>Boxer</td>\n",
       "      <td>8.81</td>\n",
       "      <td>NaN</td>\n",
       "    </tr>\n",
       "    <tr>\n",
       "      <th>working</th>\n",
       "      <td>Siberian Husky</td>\n",
       "      <td>12.58</td>\n",
       "      <td>47.5</td>\n",
       "    </tr>\n",
       "    <tr>\n",
       "      <th rowspan=\"10\" valign=\"top\">small</th>\n",
       "      <th>herding</th>\n",
       "      <td>Shetland Sheepdog</td>\n",
       "      <td>12.53</td>\n",
       "      <td>22.0</td>\n",
       "    </tr>\n",
       "    <tr>\n",
       "      <th>hound</th>\n",
       "      <td>Beagle</td>\n",
       "      <td>12.30</td>\n",
       "      <td>NaN</td>\n",
       "    </tr>\n",
       "    <tr>\n",
       "      <th>hound</th>\n",
       "      <td>Dachshund</td>\n",
       "      <td>12.63</td>\n",
       "      <td>24.0</td>\n",
       "    </tr>\n",
       "    <tr>\n",
       "      <th>terrier</th>\n",
       "      <td>Miniature Schnauzer</td>\n",
       "      <td>11.81</td>\n",
       "      <td>15.5</td>\n",
       "    </tr>\n",
       "    <tr>\n",
       "      <th>toy</th>\n",
       "      <td>Yorkshire Terrier</td>\n",
       "      <td>12.60</td>\n",
       "      <td>5.5</td>\n",
       "    </tr>\n",
       "    <tr>\n",
       "      <th>toy</th>\n",
       "      <td>Shih Tzu</td>\n",
       "      <td>13.20</td>\n",
       "      <td>12.5</td>\n",
       "    </tr>\n",
       "    <tr>\n",
       "      <th>toy</th>\n",
       "      <td>Chihuahua</td>\n",
       "      <td>16.50</td>\n",
       "      <td>5.5</td>\n",
       "    </tr>\n",
       "    <tr>\n",
       "      <th>toy</th>\n",
       "      <td>Pomeranian</td>\n",
       "      <td>9.67</td>\n",
       "      <td>5.0</td>\n",
       "    </tr>\n",
       "    <tr>\n",
       "      <th>toy</th>\n",
       "      <td>Cavalier King Charles Spaniel</td>\n",
       "      <td>11.29</td>\n",
       "      <td>15.5</td>\n",
       "    </tr>\n",
       "    <tr>\n",
       "      <th>toy</th>\n",
       "      <td>Maltese</td>\n",
       "      <td>12.25</td>\n",
       "      <td>5.0</td>\n",
       "    </tr>\n",
       "  </tbody>\n",
       "</table>\n",
       "</div>"
      ],
      "text/plain": [
       "                                             breed  longevity  weight\n",
       "size   type                                                          \n",
       "large  herding                     German Shepherd       9.73     NaN\n",
       "       sporting         German Shorthaired Pointer      11.46    62.5\n",
       "       working                          Rottweiler       9.11     NaN\n",
       "       working                   Doberman Pinscher      10.33     NaN\n",
       "       working                          Great Dane       6.96     NaN\n",
       "medium non-sporting                        Bulldog       6.29    45.0\n",
       "       non-sporting                         Poodle      11.95     NaN\n",
       "       non-sporting                 Boston Terrier      10.92     NaN\n",
       "       non-sporting                 French Bulldog       9.00    27.0\n",
       "       sporting                   Golden Retriever      12.04    60.0\n",
       "       sporting                 Labrador Retriever      12.04    67.5\n",
       "       working                               Boxer       8.81     NaN\n",
       "       working                      Siberian Husky      12.58    47.5\n",
       "small  herding                   Shetland Sheepdog      12.53    22.0\n",
       "       hound                                Beagle      12.30     NaN\n",
       "       hound                             Dachshund      12.63    24.0\n",
       "       terrier                 Miniature Schnauzer      11.81    15.5\n",
       "       toy                       Yorkshire Terrier      12.60     5.5\n",
       "       toy                                Shih Tzu      13.20    12.5\n",
       "       toy                               Chihuahua      16.50     5.5\n",
       "       toy                              Pomeranian       9.67     5.0\n",
       "       toy           Cavalier King Charles Spaniel      11.29    15.5\n",
       "       toy                                 Maltese      12.25     5.0"
      ]
     },
     "execution_count": 16,
     "metadata": {},
     "output_type": "execute_result"
    }
   ],
   "source": [
    "# read all data again, make DataFrame multi-indexed using columns size and type\n",
    "df2 = pd.read_csv(io.StringIO(csv))\n",
    "df2.set_index(['size', 'type'], inplace=True)\n",
    "\n",
    "# sort index to improve performance and avoid warnings about performance\n",
    "df2.sort_index(inplace=True)\n",
    "df2"
   ]
  },
  {
   "cell_type": "code",
   "execution_count": 17,
   "metadata": {},
   "outputs": [
    {
     "data": {
      "text/html": [
       "<div>\n",
       "<style scoped>\n",
       "    .dataframe tbody tr th:only-of-type {\n",
       "        vertical-align: middle;\n",
       "    }\n",
       "\n",
       "    .dataframe tbody tr th {\n",
       "        vertical-align: top;\n",
       "    }\n",
       "\n",
       "    .dataframe thead th {\n",
       "        text-align: right;\n",
       "    }\n",
       "</style>\n",
       "<table border=\"1\" class=\"dataframe\">\n",
       "  <thead>\n",
       "    <tr style=\"text-align: right;\">\n",
       "      <th></th>\n",
       "      <th></th>\n",
       "      <th>breed</th>\n",
       "      <th>longevity</th>\n",
       "      <th>weight</th>\n",
       "    </tr>\n",
       "    <tr>\n",
       "      <th>size</th>\n",
       "      <th>type</th>\n",
       "      <th></th>\n",
       "      <th></th>\n",
       "      <th></th>\n",
       "    </tr>\n",
       "  </thead>\n",
       "  <tbody>\n",
       "    <tr>\n",
       "      <th rowspan=\"2\" valign=\"top\">small</th>\n",
       "      <th>hound</th>\n",
       "      <td>Beagle</td>\n",
       "      <td>12.30</td>\n",
       "      <td>NaN</td>\n",
       "    </tr>\n",
       "    <tr>\n",
       "      <th>hound</th>\n",
       "      <td>Dachshund</td>\n",
       "      <td>12.63</td>\n",
       "      <td>24.0</td>\n",
       "    </tr>\n",
       "  </tbody>\n",
       "</table>\n",
       "</div>"
      ],
      "text/plain": [
       "                 breed  longevity  weight\n",
       "size  type                               \n",
       "small hound     Beagle      12.30     NaN\n",
       "      hound  Dachshund      12.63    24.0"
      ]
     },
     "execution_count": 17,
     "metadata": {},
     "output_type": "execute_result"
    }
   ],
   "source": [
    "# using hierarchical index, (size, type) \n",
    "df2.loc[('small', 'hound')]"
   ]
  },
  {
   "cell_type": "markdown",
   "metadata": {},
   "source": [
    "## Accessing scalar values directly\n",
    "\n",
    "Note: iat, at are meant for accessing scalar values, while iloc and loc are meant for accessing several elements at the  same time"
   ]
  },
  {
   "cell_type": "code",
   "execution_count": 18,
   "metadata": {},
   "outputs": [
    {
     "data": {
      "text/html": [
       "<div>\n",
       "<style scoped>\n",
       "    .dataframe tbody tr th:only-of-type {\n",
       "        vertical-align: middle;\n",
       "    }\n",
       "\n",
       "    .dataframe tbody tr th {\n",
       "        vertical-align: top;\n",
       "    }\n",
       "\n",
       "    .dataframe thead th {\n",
       "        text-align: right;\n",
       "    }\n",
       "</style>\n",
       "<table border=\"1\" class=\"dataframe\">\n",
       "  <thead>\n",
       "    <tr style=\"text-align: right;\">\n",
       "      <th></th>\n",
       "      <th>type</th>\n",
       "      <th>longevity</th>\n",
       "      <th>size</th>\n",
       "      <th>weight</th>\n",
       "    </tr>\n",
       "    <tr>\n",
       "      <th>breed</th>\n",
       "      <th></th>\n",
       "      <th></th>\n",
       "      <th></th>\n",
       "      <th></th>\n",
       "    </tr>\n",
       "  </thead>\n",
       "  <tbody>\n",
       "    <tr>\n",
       "      <th>German Shepherd</th>\n",
       "      <td>herding</td>\n",
       "      <td>9.73</td>\n",
       "      <td>large</td>\n",
       "      <td>NaN</td>\n",
       "    </tr>\n",
       "    <tr>\n",
       "      <th>Beagle</th>\n",
       "      <td>hound</td>\n",
       "      <td>12.30</td>\n",
       "      <td>small</td>\n",
       "      <td>NaN</td>\n",
       "    </tr>\n",
       "    <tr>\n",
       "      <th>Yorkshire Terrier</th>\n",
       "      <td>toy</td>\n",
       "      <td>12.60</td>\n",
       "      <td>small</td>\n",
       "      <td>5.5</td>\n",
       "    </tr>\n",
       "    <tr>\n",
       "      <th>Golden Retriever</th>\n",
       "      <td>sporting</td>\n",
       "      <td>12.04</td>\n",
       "      <td>medium</td>\n",
       "      <td>60.0</td>\n",
       "    </tr>\n",
       "    <tr>\n",
       "      <th>Bulldog</th>\n",
       "      <td>non-sporting</td>\n",
       "      <td>6.29</td>\n",
       "      <td>medium</td>\n",
       "      <td>45.0</td>\n",
       "    </tr>\n",
       "  </tbody>\n",
       "</table>\n",
       "</div>"
      ],
      "text/plain": [
       "                           type  longevity    size  weight\n",
       "breed                                                     \n",
       "German Shepherd         herding       9.73   large     NaN\n",
       "Beagle                    hound      12.30   small     NaN\n",
       "Yorkshire Terrier           toy      12.60   small     5.5\n",
       "Golden Retriever       sporting      12.04  medium    60.0\n",
       "Bulldog            non-sporting       6.29  medium    45.0"
      ]
     },
     "execution_count": 18,
     "metadata": {},
     "output_type": "execute_result"
    }
   ],
   "source": [
    "df"
   ]
  },
  {
   "cell_type": "code",
   "execution_count": 29,
   "metadata": {},
   "outputs": [
    {
     "data": {
      "text/plain": [
       "9.73"
      ]
     },
     "execution_count": 29,
     "metadata": {},
     "output_type": "execute_result"
    }
   ],
   "source": [
    "\n",
    "# accessing cell value directly using row index and column index (fast)\n",
    "df.iat[0,1]"
   ]
  },
  {
   "cell_type": "code",
   "execution_count": 21,
   "metadata": {},
   "outputs": [
    {
     "data": {
      "text/plain": [
       "6.29"
      ]
     },
     "execution_count": 21,
     "metadata": {},
     "output_type": "execute_result"
    }
   ],
   "source": [
    "# accessing cell value directly using row label and column label\n",
    "df.at[\"Bulldog\", \"longevity\"]"
   ]
  },
  {
   "cell_type": "code",
   "execution_count": null,
   "metadata": {},
   "outputs": [],
   "source": []
  }
 ],
 "metadata": {
  "kernelspec": {
   "display_name": "Python 3.9.13 ('planet4')",
   "language": "python",
   "name": "python3"
  },
  "language_info": {
   "codemirror_mode": {
    "name": "ipython",
    "version": 3
   },
   "file_extension": ".py",
   "mimetype": "text/x-python",
   "name": "python",
   "nbconvert_exporter": "python",
   "pygments_lexer": "ipython3",
   "version": "3.9.13"
  },
  "orig_nbformat": 4,
  "vscode": {
   "interpreter": {
    "hash": "a97243cb405ce325831496ff23b7ca76a6c0db2bb6c2ed99961e1c84fd8cf4ba"
   }
  }
 },
 "nbformat": 4,
 "nbformat_minor": 2
}
