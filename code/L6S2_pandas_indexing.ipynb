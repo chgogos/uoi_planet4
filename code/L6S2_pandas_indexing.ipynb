{
 "cells": [
  {
   "cell_type": "markdown",
   "metadata": {},
   "source": [
    "# Lesson 6 - Session 2 - Pandas example 2\n",
    "\n",
    "## Indexing in DataFrames\n",
    "\n",
    "1. Indexing by location\n",
    "2. Indexing by label\n",
    "3. Indexing by Boolean masks\n",
    "4. Indexing using slices\n",
    "5. Column based and row based indexing\n",
    "6. Hierarchical indexing (needs a multi indexed DataFrame)"
   ]
  },
  {
   "cell_type": "code",
   "execution_count": null,
   "metadata": {},
   "outputs": [],
   "source": [
    "# read data from the text variable csv, keep only 5 top rows\n",
    "import pandas as pd\n",
    "\n",
    "# sample DataFrame\n",
    "import io\n",
    "\n",
    "csv = '''\n",
    "breed,type,longevity,size,weight\n",
    "German Shepherd,herding,9.73,large,\n",
    "Beagle,hound,12.3,small,\n",
    "Yorkshire Terrier,toy,12.6,small,5.5\n",
    "Golden Retriever,sporting,12.04,medium,60.0\n",
    "Bulldog,non-sporting,6.29,medium,45.0\n",
    "Labrador Retriever,sporting,12.04,medium,67.5\n",
    "Boxer,working,8.81,medium,\n",
    "Poodle,non-sporting,11.95,medium,\n",
    "Dachshund,hound,12.63,small,24.0\n",
    "Rottweiler,working,9.11,large,\n",
    "Boston Terrier,non-sporting,10.92,medium,\n",
    "Shih Tzu,toy,13.2,small,12.5\n",
    "Miniature Schnauzer,terrier,11.81,small,15.5\n",
    "Doberman Pinscher,working,10.33,large,\n",
    "Chihuahua,toy,16.5,small,5.5\n",
    "Siberian Husky,working,12.58,medium,47.5\n",
    "Pomeranian,toy,9.67,small,5.0\n",
    "French Bulldog,non-sporting,9.0,medium,27.0\n",
    "Great Dane,working,6.96,large,\n",
    "Shetland Sheepdog,herding,12.53,small,22.0\n",
    "Cavalier King Charles Spaniel,toy,11.29,small,15.5\n",
    "German Shorthaired Pointer,sporting,11.46,large,62.5\n",
    "Maltese,toy,12.25,small,5.0\n",
    "'''\n",
    "\n",
    "df = pd.read_csv(io.StringIO(csv))\n",
    "df = df.head(5)\n",
    "print(df)\n",
    "print(\"#\" * 40)\n",
    "df.set_index('breed', inplace=True)\n",
    "print(df)"
   ]
  },
  {
   "cell_type": "markdown",
   "metadata": {},
   "source": [
    "## Indexing by location (1/6)\n",
    "\n",
    "Location-based a.k.a position-based or integer-based"
   ]
  },
  {
   "cell_type": "code",
   "execution_count": null,
   "metadata": {},
   "outputs": [],
   "source": [
    "# select the first row of the DataFrame\n",
    "df.iloc[0]"
   ]
  },
  {
   "cell_type": "code",
   "execution_count": null,
   "metadata": {},
   "outputs": [],
   "source": [
    "# select the first column of the DataFrame\n",
    "df.iloc[:,0]"
   ]
  },
  {
   "cell_type": "code",
   "execution_count": null,
   "metadata": {},
   "outputs": [],
   "source": [
    "# select a cell value by row and column index\n",
    "df.iloc[0,2]"
   ]
  },
  {
   "cell_type": "markdown",
   "metadata": {},
   "source": [
    "## Indexing by labels (2/6)\n",
    "\n",
    "Label-based "
   ]
  },
  {
   "cell_type": "code",
   "execution_count": null,
   "metadata": {},
   "outputs": [],
   "source": [
    "# select the row with index 'Beagle'\n",
    "df.loc['Beagle']"
   ]
  },
  {
   "cell_type": "code",
   "execution_count": null,
   "metadata": {},
   "outputs": [],
   "source": [
    "# select the column longevity\n",
    "df.loc[:,['longevity']]"
   ]
  },
  {
   "cell_type": "markdown",
   "metadata": {},
   "source": [
    "## Indexing by Boolean masks (3/6)"
   ]
  },
  {
   "cell_type": "code",
   "execution_count": null,
   "metadata": {},
   "outputs": [],
   "source": [
    "# A boolean mask\n",
    "df[\"size\"]==\"small\" "
   ]
  },
  {
   "cell_type": "code",
   "execution_count": null,
   "metadata": {},
   "outputs": [],
   "source": [
    "# select dogs with small size\n",
    "df.loc[df[\"size\"]==\"small\"]"
   ]
  },
  {
   "cell_type": "code",
   "execution_count": null,
   "metadata": {},
   "outputs": [],
   "source": [
    "# select dogs with small size and hound type \n",
    "df.loc[(df[\"size\"]==\"small\") & (df[\"type\"]==\"hound\")]"
   ]
  },
  {
   "cell_type": "markdown",
   "metadata": {},
   "source": [
    "# Indexing using slices (4/6)"
   ]
  },
  {
   "cell_type": "code",
   "execution_count": null,
   "metadata": {},
   "outputs": [],
   "source": [
    "# select row 1 and row 2, and column 0 and column 1\n",
    "df.iloc[1:3,0:2]"
   ]
  },
  {
   "cell_type": "code",
   "execution_count": null,
   "metadata": {},
   "outputs": [],
   "source": [
    "# select 3 specific rows and 2 specific columns\n",
    "df.iloc[[1,3,0],[0,2]]"
   ]
  },
  {
   "cell_type": "markdown",
   "metadata": {},
   "source": [
    "## Column based and row based indexing (5/6)"
   ]
  },
  {
   "cell_type": "code",
   "execution_count": null,
   "metadata": {},
   "outputs": [],
   "source": [
    "# select the column longevity\n",
    "df['longevity']"
   ]
  },
  {
   "cell_type": "code",
   "execution_count": null,
   "metadata": {},
   "outputs": [],
   "source": [
    "# select the column longevity, using dot notation\n",
    "df.longevity"
   ]
  },
  {
   "cell_type": "code",
   "execution_count": null,
   "metadata": {},
   "outputs": [],
   "source": [
    "# select columns longevity and size\n",
    "df[['longevity', 'size']]"
   ]
  },
  {
   "cell_type": "code",
   "execution_count": null,
   "metadata": {},
   "outputs": [],
   "source": [
    "# select rows Beagle and Bulldog\n",
    "df['longevity'][['Beagle', 'Bulldog']]"
   ]
  },
  {
   "cell_type": "markdown",
   "metadata": {},
   "source": [
    "## Hierarchical indexing (6/6)"
   ]
  },
  {
   "cell_type": "code",
   "execution_count": null,
   "metadata": {},
   "outputs": [],
   "source": [
    "# read all data again, make DataFrame multi-indexed using columns size and type\n",
    "df2 = pd.read_csv(io.StringIO(csv))\n",
    "df2.set_index(['size', 'type'], inplace=True)\n",
    "\n",
    "# sort index to improve performance and avoid warnings about performance\n",
    "df2.sort_index(inplace=True)\n",
    "df2"
   ]
  },
  {
   "cell_type": "code",
   "execution_count": null,
   "metadata": {},
   "outputs": [],
   "source": [
    "# using hierarchical index, (size, type) \n",
    "df2.loc[('small', 'hound')]"
   ]
  }
 ],
 "metadata": {
  "kernelspec": {
   "display_name": "Python 3.9.13 ('planet4')",
   "language": "python",
   "name": "python3"
  },
  "language_info": {
   "codemirror_mode": {
    "name": "ipython",
    "version": 3
   },
   "file_extension": ".py",
   "mimetype": "text/x-python",
   "name": "python",
   "nbconvert_exporter": "python",
   "pygments_lexer": "ipython3",
   "version": "3.9.13"
  },
  "orig_nbformat": 4,
  "vscode": {
   "interpreter": {
    "hash": "a97243cb405ce325831496ff23b7ca76a6c0db2bb6c2ed99961e1c84fd8cf4ba"
   }
  }
 },
 "nbformat": 4,
 "nbformat_minor": 2
}
