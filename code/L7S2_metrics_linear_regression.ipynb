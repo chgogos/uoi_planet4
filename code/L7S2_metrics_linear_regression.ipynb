{
 "cells": [
  {
   "cell_type": "markdown",
   "metadata": {},
   "source": [
    "# Lesson 7 - Session 2 - example 1\n",
    "\n",
    "Metrics used in linear regression"
   ]
  },
  {
   "cell_type": "code",
   "execution_count": 15,
   "metadata": {},
   "outputs": [
    {
     "name": "stdout",
     "output_type": "stream",
     "text": [
      "mse=260.145, rmse=16.12901112901842, mae=6.8500000000000005, r2=0.6678330954603623\n"
     ]
    }
   ],
   "source": [
    "# metrics used in linear regression\n",
    "import numpy as np\n",
    "from sklearn.metrics import mean_absolute_error, mean_squared_error, r2_score\n",
    "\n",
    "y = [7.1, 2.6, 0.0, 9.1, 8.2, 80.0]\n",
    "y_hat = [7.3, 2.2, 0.5, 9.0, 8.6, 40.5]\n",
    "\n",
    "# compute metrics\n",
    "mse = mean_squared_error(y, y_hat)\n",
    "rmse = np.sqrt(mse)\n",
    "mae = mean_absolute_error(y, y_hat)\n",
    "r2 = r2_score(y,y_hat)\n",
    "print(f\"{mse=}, {rmse=}, {mae=}, {r2=}\")"
   ]
  }
 ],
 "metadata": {
  "kernelspec": {
   "display_name": "Python 3.9.13 ('planet4')",
   "language": "python",
   "name": "python3"
  },
  "language_info": {
   "codemirror_mode": {
    "name": "ipython",
    "version": 3
   },
   "file_extension": ".py",
   "mimetype": "text/x-python",
   "name": "python",
   "nbconvert_exporter": "python",
   "pygments_lexer": "ipython3",
   "version": "3.9.13"
  },
  "orig_nbformat": 4,
  "vscode": {
   "interpreter": {
    "hash": "a97243cb405ce325831496ff23b7ca76a6c0db2bb6c2ed99961e1c84fd8cf4ba"
   }
  }
 },
 "nbformat": 4,
 "nbformat_minor": 2
}
