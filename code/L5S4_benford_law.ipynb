{
 "cells": [
  {
   "cell_type": "markdown",
   "id": "29119f38",
   "metadata": {},
   "source": [
    "# Introduction to Jupyter notebooks\n",
    "\n",
    "Demonstrating Benford's law\n",
    "\n",
    "Data from https://public.opendatasoft.com/explore/dataset/geonames-all-cities-with-a-population-1000/table/"
   ]
  },
  {
   "cell_type": "code",
   "execution_count": 2,
   "id": "55ac4965",
   "metadata": {},
   "outputs": [],
   "source": [
    "import csv"
   ]
  },
  {
   "cell_type": "code",
   "execution_count": 3,
   "id": "363d3d21",
   "metadata": {},
   "outputs": [
    {
     "data": {
      "text/plain": [
       "['4240',\n",
       " '12585',\n",
       " '9372',\n",
       " '5470',\n",
       " '14483',\n",
       " '32059',\n",
       " '23264',\n",
       " '108387',\n",
       " '13606',\n",
       " '18574']"
      ]
     },
     "execution_count": 3,
     "metadata": {},
     "output_type": "execute_result"
    }
   ],
   "source": [
    "# read data from csv data (each row has a \"population\" field)\n",
    "# use file 'geonames-all-cities-with-a-population-1000.csv'\n",
    "\n",
    "populations = []\n",
    "with open('data/geonames-all-cities-with-a-population-1000.csv', encoding='utf8') as csvfile:\n",
    "    reader = csv.DictReader(csvfile,  delimiter=';')\n",
    "    for row in reader:\n",
    "        population = row['Population']\n",
    "        if population == '0':\n",
    "            continue\n",
    "        populations.append(population)\n",
    "\n",
    "# print first 10 populations (>0)\n",
    "populations[:10]"
   ]
  },
  {
   "cell_type": "code",
   "execution_count": 4,
   "id": "7e6e1e30",
   "metadata": {},
   "outputs": [
    {
     "data": {
      "text/plain": [
       "{4: 10615,\n",
       " 1: 49026,\n",
       " 9: 3813,\n",
       " 5: 8346,\n",
       " 3: 15565,\n",
       " 2: 24955,\n",
       " 6: 6427,\n",
       " 8: 4410,\n",
       " 7: 5403}"
      ]
     },
     "execution_count": 4,
     "metadata": {},
     "output_type": "execute_result"
    }
   ],
   "source": [
    "# count first digits of all populations\n",
    "a_dict = {}\n",
    "for population in populations:\n",
    "    first_digit = int(population[0])\n",
    "    a_dict[first_digit] = a_dict.get(first_digit, 0) + 1\n",
    "\n",
    "a_dict"
   ]
  },
  {
   "cell_type": "code",
   "execution_count": 9,
   "id": "0290c602",
   "metadata": {},
   "outputs": [
    {
     "name": "stdout",
     "output_type": "stream",
     "text": [
      "There are 49026 cities having population starting with digit 1\n",
      "There are 24955 cities having population starting with digit 2\n",
      "There are 15565 cities having population starting with digit 3\n",
      "There are 10615 cities having population starting with digit 4\n",
      "There are  8346 cities having population starting with digit 5\n",
      "There are  6427 cities having population starting with digit 6\n",
      "There are  5403 cities having population starting with digit 7\n",
      "There are  4410 cities having population starting with digit 8\n",
      "There are  3813 cities having population starting with digit 9\n"
     ]
    }
   ],
   "source": [
    "# print occurrences per digit\n",
    "for i in range(1, 10):\n",
    "    print(f\"There are {a_dict[i]:>5} cities having population starting with digit {i}\")"
   ]
  },
  {
   "cell_type": "code",
   "execution_count": 6,
   "id": "9ed4aaaf",
   "metadata": {},
   "outputs": [
    {
     "data": {
      "image/png": "[encoded data removed]",
      "text/plain": [
       "<Figure size 432x288 with 1 Axes>"
      ]
     },
     "metadata": {
      "needs_background": "light"
     },
     "output_type": "display_data"
    }
   ],
   "source": [
    "import matplotlib.pyplot as plt\n",
    "\n",
    "# sort (key, value) pairs by key\n",
    "digit_times = sorted(a_dict.items())\n",
    "\n",
    "# unpack list of pairs into two tuples\n",
    "x, y = zip(*digit_times)\n",
    "\n",
    "# plot the graph\n",
    "plt.plot(x, y, linestyle='--', marker='o')\n",
    "plt.title(\"Benford's law illustrated over population of cities\")\n",
    "plt.show()"
   ]
  },
  {
   "cell_type": "code",
   "execution_count": null,
   "id": "cf16b989",
   "metadata": {},
   "outputs": [],
   "source": []
  }
 ],
 "metadata": {
  "kernelspec": {
   "display_name": "Python 3.9.13 ('planet4')",
   "language": "python",
   "name": "python3"
  },
  "language_info": {
   "codemirror_mode": {
    "name": "ipython",
    "version": 3
   },
   "file_extension": ".py",
   "mimetype": "text/x-python",
   "name": "python",
   "nbconvert_exporter": "python",
   "pygments_lexer": "ipython3",
   "version": "3.9.13"
  },
  "vscode": {
   "interpreter": {
    "hash": "a97243cb405ce325831496ff23b7ca76a6c0db2bb6c2ed99961e1c84fd8cf4ba"
   }
  }
 },
 "nbformat": 4,
 "nbformat_minor": 5
}
