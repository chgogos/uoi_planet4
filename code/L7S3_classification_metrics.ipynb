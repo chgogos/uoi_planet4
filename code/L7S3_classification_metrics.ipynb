{
 "cells": [
  {
   "cell_type": "markdown",
   "metadata": {},
   "source": [
    "# Lesson 7 - Session 3 - Example 1"
   ]
  },
  {
   "cell_type": "code",
   "execution_count": 16,
   "metadata": {},
   "outputs": [
    {
     "name": "stdout",
     "output_type": "stream",
     "text": [
      "accuracy=98.48%\n",
      "precision=16.67%\n",
      "recall=85.71%\n",
      "f1_score=27.91%\n",
      "TPR=85.71%\n",
      "FPR=1.48%\n"
     ]
    }
   ],
   "source": [
    "# fraud detection numerical example\n",
    "\n",
    "# assume a credit card fraud detection example with:\n",
    "TP = 30\n",
    "FP = 150\n",
    "FN = 5\n",
    "TN = 10000\n",
    "\n",
    "accuracy = (TP + TN) / (TP + TN + FP + FN)\n",
    "precision = TP / (TP + FP)\n",
    "recall = TP / (TP + FN)\n",
    "f1_score = 2 * precision * recall / (precision + recall)\n",
    "TPR = recall\n",
    "FPR = FP / (FP + TN)\n",
    "\n",
    "print(f\"{accuracy=:.2%}\")\n",
    "print(f\"{precision=:.2%}\")\n",
    "print(f\"{recall=:.2%}\")\n",
    "print(f\"{f1_score=:.2%}\")\n",
    "print(f\"{TPR=:.2%}\")\n",
    "print(f\"{FPR=:.2%}\")\n"
   ]
  },
  {
   "cell_type": "code",
   "execution_count": null,
   "metadata": {},
   "outputs": [],
   "source": []
  }
 ],
 "metadata": {
  "kernelspec": {
   "display_name": "Python 3.9.13 ('planet4')",
   "language": "python",
   "name": "python3"
  },
  "language_info": {
   "codemirror_mode": {
    "name": "ipython",
    "version": 3
   },
   "file_extension": ".py",
   "mimetype": "text/x-python",
   "name": "python",
   "nbconvert_exporter": "python",
   "pygments_lexer": "ipython3",
   "version": "3.9.13"
  },
  "orig_nbformat": 4,
  "vscode": {
   "interpreter": {
    "hash": "a97243cb405ce325831496ff23b7ca76a6c0db2bb6c2ed99961e1c84fd8cf4ba"
   }
  }
 },
 "nbformat": 4,
 "nbformat_minor": 2
}
